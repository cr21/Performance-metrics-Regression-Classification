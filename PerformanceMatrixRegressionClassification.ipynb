{
  "nbformat": 4,
  "nbformat_minor": 0,
  "metadata": {
    "colab": {
      "name": "PerformanceMatrixRegressionClassification.ipynb",
      "provenance": [],
      "collapsed_sections": []
    },
    "language_info": {
      "codemirror_mode": {
        "name": "ipython",
        "version": 3
      },
      "file_extension": ".py",
      "mimetype": "text/x-python",
      "name": "python",
      "nbconvert_exporter": "python",
      "pygments_lexer": "ipython3",
      "version": "3.6.8"
    },
    "kernelspec": {
      "display_name": "Python 3",
      "language": "python",
      "name": "python3"
    }
  },
  "cells": [
    {
      "cell_type": "markdown",
      "metadata": {
        "id": "HZ9yB5thiS6K"
      },
      "source": [
        "**This Notebook gives some example of Performance metric for Classification and Regression Task. </br>**\n",
        "\n",
        "<ol>\n",
        "  <ul>\n",
        "    <li> \n",
        "    Classificiation\n",
        "      <ol>\n",
        "        <li>\n",
        "           Highly Imbalanced Data ( Positive points >>>>> Negative Points)\n",
        "          </li>\n",
        "          <li>\n",
        "            Highly Imbalanced Data ( Negative  points >>>>> Positive  Points)\n",
        "          </li>\n",
        "          <li>\n",
        "            Almost Balanced Data ( Used custom Metric to Penalized False Negative Rate)\n",
        "          </li>\n",
        "        </ol>\n",
        "      </li>  \n",
        "      <li>\n",
        "      Regression Case\n",
        "      \n",
        "      \n",
        "  </ul>\n",
        "</ol>"
      ]
    },
    {
      "cell_type": "code",
      "metadata": {
        "colab": {
          "base_uri": "https://localhost:8080/"
        },
        "id": "5mINd15L9D20",
        "outputId": "2931d0ba-f256-45e4-c8c7-1785669a6bc2"
      },
      "source": [
        "from google.colab import drive\n",
        "drive.mount('/content/drive')"
      ],
      "execution_count": 2,
      "outputs": [
        {
          "output_type": "stream",
          "text": [
            "Mounted at /content/drive\n"
          ],
          "name": "stdout"
        }
      ]
    },
    {
      "cell_type": "code",
      "metadata": {
        "colab": {
          "base_uri": "https://localhost:8080/"
        },
        "id": "fz8-20-c9Vrj",
        "outputId": "561c4037-53ce-4958-823a-4fdb36be748d"
      },
      "source": [
        "cd drive/MyDrive/Applied_AI/Performance\\ Matrix\n"
      ],
      "execution_count": 3,
      "outputs": [
        {
          "output_type": "stream",
          "text": [
            "/content/drive/MyDrive/Applied_AI/Performance Matrix\n"
          ],
          "name": "stdout"
        }
      ]
    },
    {
      "cell_type": "code",
      "metadata": {
        "id": "4CHb6NE7Qvnc"
      },
      "source": [
        "import numpy as np\n",
        "import pandas as pd\n",
        "from tqdm import tqdm \n",
        "# other than these two you should not import any other packages"
      ],
      "execution_count": 4,
      "outputs": []
    },
    {
      "cell_type": "markdown",
      "metadata": {
        "id": "KbsWXuDaQvnq"
      },
      "source": [
        "<pre>\n",
        "<font color='red'><b>A.</b></font> Compute performance metrics for the given data <strong>5_a.csv</strong>\n",
        "   <b>Note 1:</b> in this data you can see number of positive points >> number of negatives points\n",
        "   <b>Note 2:</b> use pandas or numpy to read the data from <b>5_a.csv</b>\n",
        "   <b>Note 3:</b> you need to derive the class labels from given score</pre> $y^{pred}= \\text{[0 if y_score < 0.5 else 1]}$\n",
        "\n",
        "<pre>\n",
        "<ol>\n",
        "<li> Compute Confusion Matrix </li>\n",
        "<li> Compute F1 Score </li>\n",
        "<li> Compute AUC Score, you need to compute different thresholds and for each threshold compute tpr,fpr and then use               numpy.trapz(tpr_array, fpr_array) <a href='https://stackoverflow.com/q/53603376/4084039'>https://stackoverflow.com/q/53603376/4084039</a>, <a href='https://stackoverflow.com/a/39678975/4084039'>https://stackoverflow.com/a/39678975/4084039</a> Note: it should be numpy.trapz(tpr_array, fpr_array) not numpy.trapz(fpr_array, tpr_array)</li>\n",
        "<li> Compute Accuracy Score </li>\n",
        "</ol>\n",
        "</pre>"
      ]
    },
    {
      "cell_type": "code",
      "metadata": {
        "id": "0gdRguqI9fUA"
      },
      "source": [
        "\"\"\"\n",
        "Class to get confusion matrix from true and predicted labels .\n",
        "This is only for Binary Classfication Problem.\n",
        "This is very basic class defination. Validation is not performed.\n",
        "\"\"\"\n",
        "class ConfusionMatrix(object):\n",
        "\n",
        "  def __init__(self, data) :\n",
        "    \n",
        "    self.data = data\n",
        "    self.tp = None\n",
        "    self.tn  = None\n",
        "    self.fp = None\n",
        "    self.fn = None\n",
        "    self.recall = None\n",
        "    self.precision = None\n",
        "    self.tpr = None\n",
        "    self.fpr = None\n",
        "    self.accuracy = None\n",
        "    \n",
        "  \n",
        "  def getTruePositive(self) :\n",
        "    self.tp  =  np.count_nonzero(np.logical_and(self.data[\"pred_y\"] ==  1 ,  self.data[\"y\"] == 1))  \n",
        "    return self.tp\n",
        "    \n",
        "\n",
        "  def getTrueNegative(self):\n",
        "    self.tn =   np.count_nonzero(np.logical_and(self.data[\"pred_y\"] ==  0 ,  self.data[\"y\"] == 0))  \n",
        "    return self.tn\n",
        "\n",
        "  def getFalsePositive(self):\n",
        "    self.fp =  np.count_nonzero(np.logical_and(self.data[\"pred_y\"] ==  1 ,  self.data[\"y\"] == 0)) \n",
        "    return self.fp \n",
        "\n",
        "\n",
        "  def getFalseNegative(self):\n",
        "    self.fn =  np.count_nonzero(np.logical_and(self.data[\"pred_y\"] ==  0 ,  self.data[\"y\"] == 1))\n",
        "    return self.fn\n",
        "\n",
        "  def getRecall(self) :\n",
        "    if self.tp is None or self.fn is None :\n",
        "      self.getTruePositive()\n",
        "      self.getFalseNegative()\n",
        "    self.recall = self.tp / (self.tp + self.fn)\n",
        "    self.tpr = self.recall\n",
        "    return self.recall\n",
        "\n",
        "  def getPrecision(self) :\n",
        "    if self.tp is None or self.fp is None :\n",
        "      self.getTruePositive()\n",
        "      self.getFalsePositive()\n",
        "    self.precision = self.tp / (self.tp + self.fp)\n",
        "    return self.precision\n",
        "\n",
        "  def getTruePositiveRate(self) :\n",
        "    return self.getRecall()\n",
        "\n",
        "  def getFalsePositiveRate(self):\n",
        "    if self.fp is None or self.tn is None:\n",
        "      self.getFalsePositive()\n",
        "      self.getTrueNegative()\n",
        "    self.tpr = self.fp / (self.fp + self.tn)\n",
        "    return self.tpr\n",
        "\n",
        "  def getAccuracy(self) :\n",
        "    if self.tp  is None or self.tn is None:\n",
        "      self.getTruePositive()\n",
        "      self.getTrueNegative()\n",
        "    return (self.tp + self.tn) / self.data[\"y\"].count()\n",
        "  \n",
        "\n",
        "\n",
        "\n"
      ],
      "execution_count": 5,
      "outputs": []
    },
    {
      "cell_type": "markdown",
      "metadata": {
        "id": "gRa3YEylb0dj"
      },
      "source": [
        "***Case 1 ***</br> \n",
        "**Performance matrix on highly imbalanced data**  </br>\n",
        "\n",
        "**10000 positive points** </br>\n",
        "\n",
        "**100 negative points** </br> "
      ]
    },
    {
      "cell_type": "code",
      "metadata": {
        "id": "VMJyEe7yepQP"
      },
      "source": [
        ""
      ],
      "execution_count": 5,
      "outputs": []
    },
    {
      "cell_type": "code",
      "metadata": {
        "colab": {
          "base_uri": "https://localhost:8080/"
        },
        "id": "Umv96Gxp-PYA",
        "outputId": "bd48b1ea-b4a6-4e03-d3fb-bf5da0d86d40"
      },
      "source": [
        "\n",
        "\n",
        "data1 =  pd.read_csv(\"5_a.csv\")\n",
        "print(data1.columns)\n",
        "data1[\"y\"].value_counts()\n",
        "# data is highly imbalanced\n",
        "# positive points to negative point ratio is 100 : 1\n"
      ],
      "execution_count": 6,
      "outputs": [
        {
          "output_type": "stream",
          "text": [
            "Index(['y', 'proba'], dtype='object')\n"
          ],
          "name": "stdout"
        },
        {
          "output_type": "execute_result",
          "data": {
            "text/plain": [
              "1.0    10000\n",
              "0.0      100\n",
              "Name: y, dtype: int64"
            ]
          },
          "metadata": {
            "tags": []
          },
          "execution_count": 6
        }
      ]
    },
    {
      "cell_type": "code",
      "metadata": {
        "id": "wCxDh-JJEAUB"
      },
      "source": [
        "# f1 score \n",
        "# f1 score is harmonic mean of precision and recall\n",
        "\n",
        "def getF1Score(precison, recall) :\n",
        "  return 2 /( (1/precison ) + (1/recall))  "
      ],
      "execution_count": 7,
      "outputs": []
    },
    {
      "cell_type": "code",
      "metadata": {
        "id": "dVJv8Zcv_R6G"
      },
      "source": [
        "# let's predict y based on probability score given in the data\n",
        "# if proba > 0.5 :\n",
        "#   y_pred = 1\n",
        "# else :\n",
        "#   y_predd = 0\n",
        "data1[\"pred_y\"] = np.where(data1[\"proba\"] < 0.5, 0, 1 )\n",
        "\n"
      ],
      "execution_count": 8,
      "outputs": []
    },
    {
      "cell_type": "code",
      "metadata": {
        "colab": {
          "base_uri": "https://localhost:8080/"
        },
        "id": "9wnKSpqEII7V",
        "outputId": "f33c434a-0699-4473-dec1-9c20a6d63034"
      },
      "source": [
        "# Confusion Matrix\n",
        "cm   = ConfusionMatrix(data1)\n",
        "tp = cm.getTruePositive()\n",
        "fp = cm.getFalsePositive()\n",
        "tn = cm.getTrueNegative()\n",
        "fn  = cm.getFalseNegative()\n",
        "print(\"true positive : {}, false positive : {} , true Negative : {}, false Negative : {}\".format(tp, fp, tn, fn))"
      ],
      "execution_count": 9,
      "outputs": [
        {
          "output_type": "stream",
          "text": [
            "true positive : 10000, false positive : 100 , true Negative : 0, false Negative : 0\n"
          ],
          "name": "stdout"
        }
      ]
    },
    {
      "cell_type": "code",
      "metadata": {
        "colab": {
          "base_uri": "https://localhost:8080/"
        },
        "id": "j5unRojYJbeu",
        "outputId": "7c083e70-c015-4e91-9c57-05d8f35ae998"
      },
      "source": [
        "# f1 score\n",
        "recall = cm.getRecall()\n",
        "\n",
        "precision = cm.getPrecision()\n",
        "f1Score = getF1Score(precision, recall)\n",
        "print(\"Recall : {}, Precision : {}, F1score : {} \".format(recall, precision, f1Score))\n"
      ],
      "execution_count": 11,
      "outputs": [
        {
          "output_type": "stream",
          "text": [
            "Recall : 1.0, Precision : 0.9900990099009901, F1score : 0.9950248756218907 \n"
          ],
          "name": "stdout"
        }
      ]
    },
    {
      "cell_type": "code",
      "metadata": {
        "id": "ghbowU7eFEy1"
      },
      "source": [
        ""
      ],
      "execution_count": null,
      "outputs": []
    },
    {
      "cell_type": "code",
      "metadata": {
        "colab": {
          "base_uri": "https://localhost:8080/"
        },
        "id": "cZe184_LKLg0",
        "outputId": "648166ea-71ec-4ef3-9aba-2d16b7ab2bbc"
      },
      "source": [
        "# Accuracy score\n",
        "accuracy = cm.getAccuracy()\n",
        "print(\"accuracy : {} \".format(accuracy))"
      ],
      "execution_count": 12,
      "outputs": [
        {
          "output_type": "stream",
          "text": [
            "accuracy : 0.9900990099009901 \n"
          ],
          "name": "stdout"
        }
      ]
    },
    {
      "cell_type": "code",
      "metadata": {
        "id": "eMpSRpS2cZ6X"
      },
      "source": [
        "# 4) AUC and ROC curve\n",
        "class ROC(object) :\n",
        "  def __init__(self, data, thresholdList) :\n",
        "    self.data  = data\n",
        "    self.thresholdList = thresholdList\n",
        "    self.fprList = []\n",
        "    self.tprList = []\n",
        "\n",
        "\n",
        "  def getROCData(self ) :\n",
        "    \n",
        "    for tau in tqdm(self.thresholdList) :\n",
        "      self.data[\"pred_y\"] = np.where(self.data[\"proba\"] < tau, 0, 1 )\n",
        "      confusion = ConfusionMatrix(self.data)\n",
        "      tpr = confusion.getTruePositiveRate()\n",
        "      fpr = confusion.getFalsePositiveRate()\n",
        "      self.fprList.append(fpr)\n",
        "      self.tprList.append(tpr)\n",
        "    \n",
        "    return\n",
        "\n",
        "  def gettprList(self):\n",
        "    return sorted(self.tprList)\n",
        "\n",
        "  def getfprList(self):\n",
        "    return sorted(self.fprList)\n",
        "\n",
        "  def getAUCValue(self) :\n",
        "    if len(self.tprList ) == 0 or len(self.fprList) == 0 :\n",
        "      self.getROCData()\n",
        "    return np.trapz(sorted(self.tprList), sorted(self.fprList))\n",
        "\n",
        "  \n",
        "\n"
      ],
      "execution_count": 13,
      "outputs": []
    },
    {
      "cell_type": "code",
      "metadata": {
        "id": "mvEGzw2DLL_4"
      },
      "source": [
        "# 4) Computer AUC curve\n",
        "\n",
        "#  for auc we need to get threshold so we will sort based on prob value\n",
        "# then for each sorted prob vale will be used as threshold to predict based on threshold and \n",
        "# then we will plot all tpr and fpr calculated based on this threshold and calculate the are under ROC curve\n",
        "\n",
        "sorted_data1 = data1.sort_values(by=['proba'])"
      ],
      "execution_count": 14,
      "outputs": []
    },
    {
      "cell_type": "code",
      "metadata": {
        "id": "7vjySUwWb2g4"
      },
      "source": [
        "thresholdList = np.unique(sorted_data1[\"proba\"]).tolist()\n",
        "len(thresholdList)"
      ],
      "execution_count": null,
      "outputs": []
    },
    {
      "cell_type": "code",
      "metadata": {
        "id": "gTBG49ggb3si"
      },
      "source": [
        "#Auc value\n",
        "roc = ROC(sorted_data1, thresholdList)\n",
        "print(\"AUC {} \".format( roc.getAUCValue()))"
      ],
      "execution_count": null,
      "outputs": []
    },
    {
      "cell_type": "code",
      "metadata": {
        "id": "vwcA7vXqsdEl"
      },
      "source": [
        "# plot roc curve\n",
        "import matplotlib.pyplot as plt\n",
        "plt.plot(roc.tprList, roc.fprList)\n",
        "plt.xlabel(\"False Positive Rate\")\n",
        "plt.ylabel(\"True Positive Rate\")\n"
      ],
      "execution_count": null,
      "outputs": []
    },
    {
      "cell_type": "code",
      "metadata": {
        "id": "eP03wzB0sf_V"
      },
      "source": [
        ""
      ],
      "execution_count": null,
      "outputs": []
    },
    {
      "cell_type": "markdown",
      "metadata": {
        "id": "s0Ej_bXyQvnV"
      },
      "source": [
        "# Compute performance metrics for the given Y and Y_score without sklearn"
      ]
    },
    {
      "cell_type": "markdown",
      "metadata": {
        "id": "V5KZem1BQvn2"
      },
      "source": [
        "<pre>\n",
        "<font color='red'><b>B.</b></font> Compute performance metrics for the given data <strong>5_b.csv</strong>\n",
        "   <b>Note 1:</b> in this data you can see number of positive points << number of negatives points\n",
        "   <b>Note 2:</b> use pandas or numpy to read the data from <b>5_b.csv</b>\n",
        "   <b>Note 3:</b> you need to derive the class labels from given score</pre> $y^{pred}= \\text{[0 if y_score < 0.5 else 1]}$\n",
        "\n",
        "<pre>\n",
        "<ol>\n",
        "<li> Compute Confusion Matrix </li>\n",
        "<li> Compute F1 Score </li>\n",
        "<li> Compute AUC Score, you need to compute different thresholds and for each threshold compute tpr,fpr and then use               numpy.trapz(tpr_array, fpr_array) <a href='https://stackoverflow.com/q/53603376/4084039'>https://stackoverflow.com/q/53603376/4084039</a>, <a href='https://stackoverflow.com/a/39678975/4084039'>https://stackoverflow.com/a/39678975/4084039</a></li>\n",
        "<li> Compute Accuracy Score </li>\n",
        "</ol>\n",
        "</pre>"
      ]
    },
    {
      "cell_type": "markdown",
      "metadata": {
        "id": "_WJZKHnSerxS"
      },
      "source": [
        "***Case 2 ***  </br>\n",
        "\n",
        "positive points << number of negatives points </br> \n",
        "**Performance matrix on highly imbalanced data**  </br>\n",
        "\n",
        "**10000 Negative points** </br>\n",
        "\n",
        "**100 positive points** </br> "
      ]
    },
    {
      "cell_type": "code",
      "metadata": {
        "id": "WaFLW7oBQvnt",
        "colab": {
          "base_uri": "https://localhost:8080/"
        },
        "outputId": "4ea9e3e5-8f9b-4c5b-84da-ab4e1c4029ac"
      },
      "source": [
        "# write your code here\n",
        "data2 =  pd.read_csv(\"5_b.csv\")\n",
        "print(data1.columns)\n",
        "data2[\"y\"].value_counts()\n",
        "# data is highly imbalanced\n",
        "# positive points to negative point ratio is 100 : 1\n"
      ],
      "execution_count": 15,
      "outputs": [
        {
          "output_type": "stream",
          "text": [
            "Index(['y', 'proba', 'pred_y'], dtype='object')\n"
          ],
          "name": "stdout"
        },
        {
          "output_type": "execute_result",
          "data": {
            "text/plain": [
              "0.0    10000\n",
              "1.0      100\n",
              "Name: y, dtype: int64"
            ]
          },
          "metadata": {
            "tags": []
          },
          "execution_count": 15
        }
      ]
    },
    {
      "cell_type": "code",
      "metadata": {
        "id": "9wZImuK6mVfY"
      },
      "source": [
        "# let's predict y based on probability score given in the data\n",
        "# if proba > 0.5 :\n",
        "#   y_pred = 1\n",
        "# else :\n",
        "#   y_predd = 0\n",
        "data2[\"pred_y\"] = np.where(data2[\"proba\"] < 0.5, 0, 1 )\n",
        "\n"
      ],
      "execution_count": 16,
      "outputs": []
    },
    {
      "cell_type": "code",
      "metadata": {
        "colab": {
          "base_uri": "https://localhost:8080/"
        },
        "id": "pqaYffwImhl2",
        "outputId": "06c70292-99e9-480d-98e2-395150d3c1ec"
      },
      "source": [
        "# 1) confusion Matrix\n",
        "\n",
        "cm   = ConfusionMatrix(data2)\n",
        "tp = cm.getTruePositive()\n",
        "fp = cm.getFalsePositive()\n",
        "tn = cm.getTrueNegative()\n",
        "fn  = cm.getFalseNegative()\n",
        "fpr = cm.getFalsePositiveRate()\n",
        "tpr = cm.getTruePositiveRate()\n",
        "print(\"true positive : {}, false positive : {} , true Negative : {}, false Negative : {}\".format(tp, fp, tn, fn))"
      ],
      "execution_count": 17,
      "outputs": [
        {
          "output_type": "stream",
          "text": [
            "true positive : 55, false positive : 239 , true Negative : 9761, false Negative : 45\n"
          ],
          "name": "stdout"
        }
      ]
    },
    {
      "cell_type": "code",
      "metadata": {
        "colab": {
          "base_uri": "https://localhost:8080/"
        },
        "id": "If8NSlj6mz3_",
        "outputId": "f736b8a0-fedd-473f-d918-10da6f22c461"
      },
      "source": [
        "# f1 score\n",
        "\n",
        "recall = cm.getRecall()\n",
        "precision = cm.getPrecision()\n",
        "f1ScoreData2 = getF1Score(precision, recall)\n",
        "f1ScoreData2\n",
        "print(\"Recall : {}, Precision : {}, F1score : {} \".format(recall, precision, f1ScoreData2))\n"
      ],
      "execution_count": 18,
      "outputs": [
        {
          "output_type": "stream",
          "text": [
            "Recall : 0.55, Precision : 0.1870748299319728, F1score : 0.27918781725888325 \n"
          ],
          "name": "stdout"
        }
      ]
    },
    {
      "cell_type": "code",
      "metadata": {
        "id": "e7x39KfJoX_x"
      },
      "source": [
        "#Auc Curve\n",
        "# 4) Computer AUC curve\n",
        "\n",
        "#  for auc we need to get threshold so we will sort based on prob value\n",
        "# then for each sorted prob vale will be used as threshold to predict based on threshold and \n",
        "# then we will plot all tpr and fpr calculated based on this threshold and calculate the are under ROC curve\n",
        "\n",
        "sorted_data2 = data2.sort_values(by=['proba'])\n",
        "\n",
        "# get Threshold values\n",
        "thresholdList2 = np.unique(sorted_data2[\"proba\"]).tolist()\n",
        "len(thresholdList2)\n",
        "\n",
        "#Auc value\n",
        "roc2 = ROC(sorted_data2, thresholdList2)\n",
        "\n",
        "\n",
        "\n",
        "\n",
        "\n"
      ],
      "execution_count": 19,
      "outputs": []
    },
    {
      "cell_type": "code",
      "metadata": {
        "colab": {
          "base_uri": "https://localhost:8080/"
        },
        "id": "Y0K8XVAFfo8D",
        "outputId": "a0e0bab0-2d51-43ce-c964-8cd46720c77e"
      },
      "source": [
        "# AUC\n",
        "\n",
        "print(\"AUC {}\".format(roc2.getAUCValue()))\n"
      ],
      "execution_count": 23,
      "outputs": [
        {
          "output_type": "stream",
          "text": [
            "AUC 0.9377570000000001\n"
          ],
          "name": "stdout"
        }
      ]
    },
    {
      "cell_type": "code",
      "metadata": {
        "colab": {
          "base_uri": "https://localhost:8080/",
          "height": 296
        },
        "id": "cNtRkVE4tDvT",
        "outputId": "7b2c309f-9963-4465-c550-e4a0ab987b17"
      },
      "source": [
        "# plot roc curve\n",
        "import matplotlib.pyplot as plt\n",
        "plt.plot( (roc2.fprList), (roc2.tprList))\n",
        "plt.xlabel(\"False Positive Rate\")\n",
        "plt.ylabel(\"True Positive Rate\")"
      ],
      "execution_count": 24,
      "outputs": [
        {
          "output_type": "execute_result",
          "data": {
            "text/plain": [
              "Text(0, 0.5, 'True Positive Rate')"
            ]
          },
          "metadata": {
            "tags": []
          },
          "execution_count": 24
        },
        {
          "output_type": "display_data",
          "data": {
            "image/png": "[encoded data removed]",
            "text/plain": [
              "<Figure size 432x288 with 1 Axes>"
            ]
          },
          "metadata": {
            "tags": [],
            "needs_background": "light"
          }
        }
      ]
    },
    {
      "cell_type": "code",
      "metadata": {
        "colab": {
          "base_uri": "https://localhost:8080/"
        },
        "id": "rhvAfJ5NpEIZ",
        "outputId": "95b34ef6-9eca-4219-f810-3139c39210c0"
      },
      "source": [
        "# 4) Accuracy score\n",
        "\n",
        "accuracy2 = cm.getAccuracy()\n",
        "accuracy2"
      ],
      "execution_count": 22,
      "outputs": [
        {
          "output_type": "execute_result",
          "data": {
            "text/plain": [
              "0.9718811881188119"
            ]
          },
          "metadata": {
            "tags": []
          },
          "execution_count": 22
        }
      ]
    },
    {
      "cell_type": "markdown",
      "metadata": {
        "id": "-BdrqXBjgWeI"
      },
      "source": [
        ""
      ]
    },
    {
      "cell_type": "markdown",
      "metadata": {
        "id": "GiPGonTzQvoB"
      },
      "source": [
        "<font color='red'><b>C.</b></font> Compute the best threshold (similarly to ROC curve computation) of probability which gives lowest values of metric <b>A</b> for the given data <strong>5_c.csv</strong>\n",
        "<br>\n",
        "\n",
        "you will be predicting label of a data points like this: $y^{pred}= \\text{[0 if y_score < threshold  else 1]}$\n",
        "\n",
        "$ A = 500 \\times \\text{number of false negative} + 100 \\times \\text{numebr of false positive}$\n",
        "\n",
        "<pre>\n",
        "   <b>Note 1:</b> in this data you can see number of negative points > number of positive points\n",
        "   <b>Note 2:</b> use pandas or numpy to read the data from <b>5_c.csv</b>\n",
        "</pre>"
      ]
    },
    {
      "cell_type": "markdown",
      "metadata": {
        "id": "EfKN6ocggdLn"
      },
      "source": [
        "***Case 3  *** </br>\n",
        "\n",
        "**Fairly Balanced Data :** </br> \n",
        "\n",
        "\n",
        "**1805 Negative points**\n",
        "\n",
        "**1047 positive points**\n",
        "\n",
        "We want to **penalized more False Negative**, because in this case buissness objective is to get lowest false negative numbers. for example this matrix is **critical in medical or clinical research**. You don't want to miss any potential patient. </br>\n",
        "\n",
        "We will use custom metric which is defined as below : </br>\n",
        "\n",
        "\n",
        "**$ A = 500 \\times \\text{number of false negative} + 100 \\times \\text{numebr of false positive}$ </br>** \n",
        "\n",
        "we will select threshold such that this **metrix is minimized.**\n",
        "\n"
      ]
    },
    {
      "cell_type": "code",
      "metadata": {
        "id": "x5HIJzq1QvoE",
        "colab": {
          "base_uri": "https://localhost:8080/"
        },
        "outputId": "16b59623-37cc-4273-8190-78cdb9f41f13"
      },
      "source": [
        " # write your code\n",
        "\n",
        " data3 = pd.read_csv(\"5_c.csv\")\n",
        " data3[\"y\"].value_counts()"
      ],
      "execution_count": 25,
      "outputs": [
        {
          "output_type": "execute_result",
          "data": {
            "text/plain": [
              "0    1805\n",
              "1    1047\n",
              "Name: y, dtype: int64"
            ]
          },
          "metadata": {
            "tags": []
          },
          "execution_count": 25
        }
      ]
    },
    {
      "cell_type": "code",
      "metadata": {
        "colab": {
          "base_uri": "https://localhost:8080/"
        },
        "id": "asMkfdCsxNPH",
        "outputId": "9c5925b3-0adf-4ea5-c297-007d058eef8b"
      },
      "source": [
        "# we need to get threshold so we will sort based on prob value\n",
        "# then for each sorted prob vale will be used as threshold to predict based on threshold and \n",
        "# then we will plot all tpr and fpr calculated based on this threshold and calculate the are under ROC curve\n",
        "\n",
        "sorted_data3 = data3.sort_values(by=['prob'])\n",
        "\n",
        "# get Threshold values\n",
        "thresholdList3 = np.unique(sorted_data3[\"prob\"]).tolist()\n",
        "len(thresholdList3)\n"
      ],
      "execution_count": 26,
      "outputs": [
        {
          "output_type": "execute_result",
          "data": {
            "text/plain": [
              "2791"
            ]
          },
          "metadata": {
            "tags": []
          },
          "execution_count": 26
        }
      ]
    },
    {
      "cell_type": "code",
      "metadata": {
        "id": "jaKVTHNOwjCW"
      },
      "source": [
        "\n",
        "# 4) AUC and ROC curve\n",
        "class CustomMatrix(object) :\n",
        "  def __init__(self, data, thresholdList) :\n",
        "    self.data  = data\n",
        "    self.thresholdList = thresholdList\n",
        "    self.fprList = []\n",
        "    self.tprList = []\n",
        "    self.customMatrixValues = []\n",
        "\n",
        "\n",
        "  def calculateMatrixValue(self ) :\n",
        "    \n",
        "    for tau in tqdm(self.thresholdList) :\n",
        "      self.data[\"pred_y\"] = np.where(self.data[\"prob\"] < tau, 0, 1 )\n",
        "      confusion = ConfusionMatrix(self.data)\n",
        "      fp = confusion.getFalsePositive()\n",
        "      fn = confusion.getFalseNegative()\n",
        "      matricValue = (500 * fn ) + (100 * fp)\n",
        "      self.customMatrixValues.append((tau, matricValue))\n",
        "      \n",
        "    \n",
        "    return self.customMatrixValues\n",
        "\n",
        "  \n",
        "\n",
        "  \n",
        "\n",
        "\n"
      ],
      "execution_count": 27,
      "outputs": []
    },
    {
      "cell_type": "code",
      "metadata": {
        "colab": {
          "base_uri": "https://localhost:8080/"
        },
        "id": "HOsbVAQlzH6f",
        "outputId": "c2f8da18-ba08-409f-fd95-9c3d82330717"
      },
      "source": [
        "newmatric = CustomMatrix(data3, thresholdList3)\n",
        "customMatrixValues = newmatric.calculateMatrixValue()\n"
      ],
      "execution_count": 28,
      "outputs": [
        {
          "output_type": "stream",
          "text": [
            "100%|██████████| 2791/2791 [00:05<00:00, 484.96it/s]\n"
          ],
          "name": "stderr"
        }
      ]
    },
    {
      "cell_type": "code",
      "metadata": {
        "colab": {
          "base_uri": "https://localhost:8080/",
          "height": 282
        },
        "id": "5eyZwgg_zVLR",
        "outputId": "bb37efc4-68eb-42c2-c27e-e035a09b422e"
      },
      "source": [
        "# create new data frame from list of tuple and set threshold as index\n",
        "# get minimum matrix value threshold use idxmin method\n",
        "\n",
        "newdf = pd.DataFrame(customMatrixValues, columns=['threshold', 'matrix']).set_index('threshold')\n",
        "\n",
        "minThreshold = newdf[[\"matrix\"]].idxmin()\n",
        "\n",
        "plt.plot(*zip(*customMatrixValues))"
      ],
      "execution_count": 29,
      "outputs": [
        {
          "output_type": "execute_result",
          "data": {
            "text/plain": [
              "[<matplotlib.lines.Line2D at 0x7f2c6bccc2b0>]"
            ]
          },
          "metadata": {
            "tags": []
          },
          "execution_count": 29
        },
        {
          "output_type": "display_data",
          "data": {
            "image/png": "[encoded data removed]",
            "text/plain": [
              "<Figure size 432x288 with 1 Axes>"
            ]
          },
          "metadata": {
            "tags": [],
            "needs_background": "light"
          }
        }
      ]
    },
    {
      "cell_type": "code",
      "metadata": {
        "colab": {
          "base_uri": "https://localhost:8080/"
        },
        "id": "xEZgKED_3dsx",
        "outputId": "2dd41da3-da51-4833-bb56-58532db03091"
      },
      "source": [
        "print(\"Minimum Threshold Value : {}\".format(minThreshold))"
      ],
      "execution_count": 30,
      "outputs": [
        {
          "output_type": "stream",
          "text": [
            "Minimum Threshold Value : matrix    0.230039\n",
            "dtype: float64\n"
          ],
          "name": "stdout"
        }
      ]
    },
    {
      "cell_type": "markdown",
      "metadata": {
        "id": "sD4CcgjXQvoL"
      },
      "source": [
        "<pre>\n",
        "<font color='red'><b>D.</b></font> Compute performance metrics(for regression) for the given data <strong>5_d.csv</strong>\n",
        "    <b>Note 2:</b> use pandas or numpy to read the data from <b>5_d.csv</b>\n",
        "    <b>Note 1:</b> <b>5_d.csv</b> will having two columns Y and predicted_Y both are real valued features\n",
        "<ol>\n",
        "<li> Compute Mean Square Error </li>\n",
        "<li> Compute MAPE: https://www.youtube.com/watch?v=ly6ztgIkUxk</li>\n",
        "<li> Compute R^2 error: https://en.wikipedia.org/wiki/Coefficient_of_determination#Definitions </li>\n",
        "</ol>\n",
        "</pre>"
      ]
    },
    {
      "cell_type": "markdown",
      "metadata": {
        "id": "oUJMSOSNh6iv"
      },
      "source": [
        "Confusion Matrix is not a metric for regression problem.\n",
        "\n",
        "We will use **Mean Square Error**, **Mean Absolute Percentage Error** for **Regression Problem**"
      ]
    },
    {
      "cell_type": "code",
      "metadata": {
        "colab": {
          "base_uri": "https://localhost:8080/"
        },
        "id": "qht3A7XF527s",
        "outputId": "eac76d9d-243d-4a11-e727-9a68274f87ec"
      },
      "source": [
        "data4 = pd.read_csv(\"5_d.csv\")\n",
        "meanError = np.mean(data4[\"y\"])\n",
        "data4[\"error\"] = data4[\"y\"] - data4[\"pred\"]\n",
        "data4[\"meanError\"] = data4[\"y\"] - meanError \n",
        "# 1) Mean Squared Error\n",
        "MSE = np.mean(np.square(data4[\"error\"]))\n",
        "print( \"Mean Squared Error\", MSE)\n",
        "SST = np.mean(np.square(data4[\"meanError\"]))\n",
        "print(\"Sum of Squared Total : \",SST)\n",
        "# R^2 \n",
        "R2 = 1 - (MSE/SST)\n",
        "print( \"R^2 value \",R2)\n",
        "\n",
        "#MAPE\n",
        "sumOfActualValue = np.sum(data4[\"y\"])\n",
        "sumOfErrors = np.sum(abs(data4[\"error\"]))\n",
        "MAPE = sumOfErrors/ (sumOfActualValue)\n",
        "print('MAPE Value :', MAPE)"
      ],
      "execution_count": 31,
      "outputs": [
        {
          "output_type": "stream",
          "text": [
            "Mean Squared Error 177.16569974554707\n",
            "Sum of Squared Total :  4059.54885518869\n",
            "R^2 value  0.9563582786990964\n",
            "MAPE Value : 0.1291202994009687\n"
          ],
          "name": "stdout"
        }
      ]
    }
  ]
}